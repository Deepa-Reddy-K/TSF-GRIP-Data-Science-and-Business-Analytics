{
 "cells": [
  {
   "cell_type": "markdown",
   "metadata": {
    "id": "rjMAKzI45EAJ"
   },
   "source": [
    "# TASK 1 : Prediction using supervised ML\n",
    "\n",
    "Author : DEEPA REDDY K\n",
    "\n",
    "Dataset used: Student Scores\n",
    "\n",
    "It can be downloaded through the following link - http://bit.ly/w-data\n",
    "\n",
    "Problem Statement(s) :\n",
    "\n",
    "Predict the percentage of a student based on the no. of study hours.\n",
    "\n",
    "What will be the predicted score if a student studies for 9.25 hrs/ day?"
   ]
  },
  {
   "cell_type": "code",
   "execution_count": 11,
   "metadata": {},
   "outputs": [],
   "source": [
    "# This code block imports the required libraries\n",
    "\n",
    "import pandas as pd\n",
    "import numpy as np\n",
    "import matplotlib.pyplot as plt \n",
    "import seaborn as sns\n",
    "from sklearn.model_selection import train_test_split\n",
    "from sklearn.linear_model import LinearRegression\n",
    "from sklearn.metrics import mean_absolute_error"
   ]
  },
  {
   "cell_type": "code",
   "execution_count": 10,
   "metadata": {
    "colab": {
     "base_uri": "https://localhost:8080/",
     "height": 833
    },
    "id": "Hui5plCZ5JEL",
    "outputId": "492849ea-2716-4e11-f96a-a5316bc0b515"
   },
   "outputs": [
    {
     "data": {
      "text/html": [
       "<div>\n",
       "<style scoped>\n",
       "    .dataframe tbody tr th:only-of-type {\n",
       "        vertical-align: middle;\n",
       "    }\n",
       "\n",
       "    .dataframe tbody tr th {\n",
       "        vertical-align: top;\n",
       "    }\n",
       "\n",
       "    .dataframe thead th {\n",
       "        text-align: right;\n",
       "    }\n",
       "</style>\n",
       "<table border=\"1\" class=\"dataframe\">\n",
       "  <thead>\n",
       "    <tr style=\"text-align: right;\">\n",
       "      <th></th>\n",
       "      <th>Hours</th>\n",
       "      <th>Scores</th>\n",
       "    </tr>\n",
       "  </thead>\n",
       "  <tbody>\n",
       "    <tr>\n",
       "      <th>0</th>\n",
       "      <td>2.5</td>\n",
       "      <td>21</td>\n",
       "    </tr>\n",
       "    <tr>\n",
       "      <th>1</th>\n",
       "      <td>5.1</td>\n",
       "      <td>47</td>\n",
       "    </tr>\n",
       "    <tr>\n",
       "      <th>2</th>\n",
       "      <td>3.2</td>\n",
       "      <td>27</td>\n",
       "    </tr>\n",
       "    <tr>\n",
       "      <th>3</th>\n",
       "      <td>8.5</td>\n",
       "      <td>75</td>\n",
       "    </tr>\n",
       "    <tr>\n",
       "      <th>4</th>\n",
       "      <td>3.5</td>\n",
       "      <td>30</td>\n",
       "    </tr>\n",
       "    <tr>\n",
       "      <th>5</th>\n",
       "      <td>1.5</td>\n",
       "      <td>20</td>\n",
       "    </tr>\n",
       "    <tr>\n",
       "      <th>6</th>\n",
       "      <td>9.2</td>\n",
       "      <td>88</td>\n",
       "    </tr>\n",
       "    <tr>\n",
       "      <th>7</th>\n",
       "      <td>5.5</td>\n",
       "      <td>60</td>\n",
       "    </tr>\n",
       "    <tr>\n",
       "      <th>8</th>\n",
       "      <td>8.3</td>\n",
       "      <td>81</td>\n",
       "    </tr>\n",
       "    <tr>\n",
       "      <th>9</th>\n",
       "      <td>2.7</td>\n",
       "      <td>25</td>\n",
       "    </tr>\n",
       "    <tr>\n",
       "      <th>10</th>\n",
       "      <td>7.7</td>\n",
       "      <td>85</td>\n",
       "    </tr>\n",
       "    <tr>\n",
       "      <th>11</th>\n",
       "      <td>5.9</td>\n",
       "      <td>62</td>\n",
       "    </tr>\n",
       "    <tr>\n",
       "      <th>12</th>\n",
       "      <td>4.5</td>\n",
       "      <td>41</td>\n",
       "    </tr>\n",
       "    <tr>\n",
       "      <th>13</th>\n",
       "      <td>3.3</td>\n",
       "      <td>42</td>\n",
       "    </tr>\n",
       "    <tr>\n",
       "      <th>14</th>\n",
       "      <td>1.1</td>\n",
       "      <td>17</td>\n",
       "    </tr>\n",
       "    <tr>\n",
       "      <th>15</th>\n",
       "      <td>8.9</td>\n",
       "      <td>95</td>\n",
       "    </tr>\n",
       "    <tr>\n",
       "      <th>16</th>\n",
       "      <td>2.5</td>\n",
       "      <td>30</td>\n",
       "    </tr>\n",
       "    <tr>\n",
       "      <th>17</th>\n",
       "      <td>1.9</td>\n",
       "      <td>24</td>\n",
       "    </tr>\n",
       "    <tr>\n",
       "      <th>18</th>\n",
       "      <td>6.1</td>\n",
       "      <td>67</td>\n",
       "    </tr>\n",
       "    <tr>\n",
       "      <th>19</th>\n",
       "      <td>7.4</td>\n",
       "      <td>69</td>\n",
       "    </tr>\n",
       "    <tr>\n",
       "      <th>20</th>\n",
       "      <td>2.7</td>\n",
       "      <td>30</td>\n",
       "    </tr>\n",
       "    <tr>\n",
       "      <th>21</th>\n",
       "      <td>4.8</td>\n",
       "      <td>54</td>\n",
       "    </tr>\n",
       "    <tr>\n",
       "      <th>22</th>\n",
       "      <td>3.8</td>\n",
       "      <td>35</td>\n",
       "    </tr>\n",
       "    <tr>\n",
       "      <th>23</th>\n",
       "      <td>6.9</td>\n",
       "      <td>76</td>\n",
       "    </tr>\n",
       "    <tr>\n",
       "      <th>24</th>\n",
       "      <td>7.8</td>\n",
       "      <td>86</td>\n",
       "    </tr>\n",
       "  </tbody>\n",
       "</table>\n",
       "</div>"
      ],
      "text/plain": [
       "    Hours  Scores\n",
       "0     2.5      21\n",
       "1     5.1      47\n",
       "2     3.2      27\n",
       "3     8.5      75\n",
       "4     3.5      30\n",
       "5     1.5      20\n",
       "6     9.2      88\n",
       "7     5.5      60\n",
       "8     8.3      81\n",
       "9     2.7      25\n",
       "10    7.7      85\n",
       "11    5.9      62\n",
       "12    4.5      41\n",
       "13    3.3      42\n",
       "14    1.1      17\n",
       "15    8.9      95\n",
       "16    2.5      30\n",
       "17    1.9      24\n",
       "18    6.1      67\n",
       "19    7.4      69\n",
       "20    2.7      30\n",
       "21    4.8      54\n",
       "22    3.8      35\n",
       "23    6.9      76\n",
       "24    7.8      86"
      ]
     },
     "execution_count": 10,
     "metadata": {},
     "output_type": "execute_result"
    }
   ],
   "source": [
    "# This code block reads the sample data from the provided data set csv link\n",
    "\n",
    "# Read sample data\n",
    "data = pd.read_csv ('Student_data.csv')\n",
    "\n",
    "# Display sample data read from provided data set\n",
    "data.head(1010)"
   ]
  },
  {
   "cell_type": "code",
   "execution_count": null,
   "metadata": {
    "id": "qlqxF0UluXzL"
   },
   "outputs": [],
   "source": []
  },
  {
   "cell_type": "code",
   "execution_count": 3,
   "metadata": {
    "colab": {
     "base_uri": "https://localhost:8080/",
     "height": 303
    },
    "id": "ISK4NG8u6G1Z",
    "outputId": "36affd3a-7ea5-4bc5-c725-347e3b9d0eaa"
   },
   "outputs": [
    {
     "data": {
      "image/png": "[encoded data removed]",
      "text/plain": [
       "<Figure size 432x288 with 1 Axes>"
      ]
     },
     "metadata": {},
     "output_type": "display_data"
    }
   ],
   "source": [
    "# This code block just visualizes data points in the sample data for analysis\n",
    "\n",
    "# Set the style theme of the graph plot\n",
    "sns.set_style('darkgrid')\n",
    "\n",
    "# Provide the data from the sample data to the x and y axes for a scatter plot graph\n",
    "sns.scatterplot(y= data['Scores'], x= data['Hours'])\n",
    "\n",
    "# Set the graph title with 20 font size\n",
    "plt.title('Scored Marks Vs Study Hours',size=20)\n",
    "\n",
    "# Set the y-axis label with 13 font size\n",
    "plt.ylabel('Marks Scored', size=13)\n",
    "\n",
    "# Set the x-axis label with 13 font size\n",
    "plt.xlabel('Hours Studied', size=13)\n",
    "\n",
    "# Display the graph\n",
    "plt.show()"
   ]
  },
  {
   "cell_type": "code",
   "execution_count": null,
   "metadata": {
    "colab": {
     "base_uri": "https://localhost:8080/",
     "height": 355
    },
    "id": "PtK1Hm6n9H2y",
    "outputId": "8e5124a6-5728-4cef-be68-86b987ade2bc"
   },
   "outputs": [
    {
     "data": {
      "image/png": "[encoded data removed]",
      "text/plain": [
       "<Figure size 432x288 with 1 Axes>"
      ]
     },
     "metadata": {},
     "output_type": "display_data"
    },
    {
     "name": "stdout",
     "output_type": "stream",
     "text": [
      "           Hours    Scores\n",
      "Hours   1.000000  0.976191\n",
      "Scores  0.976191  1.000000\n"
     ]
    }
   ],
   "source": [
    "# This code block visualizes a regression to confirm the correlation in the sample data for analysis\n",
    "\n",
    "# Provide the data from the sample data to the x and y axes for a regression plot graph\n",
    "sns.regplot(x= data['Hours'], y= data['Scores'])\n",
    "\n",
    "# Set the graph title with 20 font size\n",
    "plt.title('Scored Marks Vs Study Hours',size=20)\n",
    "\n",
    "# Set the y-axis label with 13 font size\n",
    "plt.ylabel('Marks Scored', size=13)\n",
    "\n",
    "# Set the x-axis label with 13 font size\n",
    "plt.xlabel('Hours Studied', size=13)\n",
    "\n",
    "# Display the graph\n",
    "plt.show()\n",
    "\n",
    "# Display the correlation in the sample data\n",
    "print(data.corr())"
   ]
  },
  {
   "cell_type": "code",
   "execution_count": null,
   "metadata": {
    "id": "eQIPACmX-wyD"
   },
   "outputs": [],
   "source": [
    "# This block extracts the data points from the sample data and splits into training and testing data\n",
    "\n",
    "# Extract Hours (input for prediction) column values from the data\n",
    "X = data.iloc[:, :-1].values\n",
    "\n",
    "# Extract Marks (output for prediction) column values from the data\n",
    "y = data.iloc[:, 1].values\n",
    "\n",
    "# Split the Data into training and testing data\n",
    "train_X, test_X, train_y, test_y = train_test_split(X, y, random_state = 0)"
   ]
  },
  {
   "cell_type": "code",
   "execution_count": null,
   "metadata": {
    "colab": {
     "base_uri": "https://localhost:8080/"
    },
    "id": "vX_oWzEG_Lxp",
    "outputId": "1cad30d5-eec6-467b-becf-dc3e58ddf21b"
   },
   "outputs": [
    {
     "name": "stdout",
     "output_type": "stream",
     "text": [
      "Model Trained\n"
     ]
    }
   ],
   "source": [
    "# This code block trains the model with the training data\n",
    "\n",
    "# Create a linear regression model object\n",
    "regression = LinearRegression()\n",
    "\n",
    "# Provide training data for the model to learn\n",
    "regression.fit(train_X, train_y)\n",
    "print(\"Model Trained\")"
   ]
  },
  {
   "cell_type": "code",
   "execution_count": null,
   "metadata": {
    "colab": {
     "base_uri": "https://localhost:8080/"
    },
    "id": "7G9plmcc_rGQ",
    "outputId": "ad83a752-e026-48eb-f9f9-1d5fd570bab4"
   },
   "outputs": [
    {
     "name": "stdout",
     "output_type": "stream",
     "text": [
      "   Hours  Predicted Marks\n",
      "0    1.5        16.844722\n",
      "1    3.2        33.745575\n",
      "2    7.4        75.500624\n",
      "3    2.5        26.786400\n",
      "4    5.9        60.588106\n",
      "5    3.8        39.710582\n",
      "6    1.9        20.821393\n"
     ]
    }
   ],
   "source": [
    "# This code block tests the predicitons of the trained model using the testing data\n",
    "\n",
    "# Make a prediction of Y (marks) by providing X (hours) from the testing data\n",
    "pred_y = regression.predict(test_X)\n",
    "\n",
    "# Convert the predictions to a table format for analysis\n",
    "prediction = pd.DataFrame({'Hours': [i[0] for i in test_X], 'Predicted Marks': [k for k in pred_y]})\n",
    "print(prediction)"
   ]
  },
  {
   "cell_type": "code",
   "execution_count": null,
   "metadata": {
    "colab": {
     "base_uri": "https://localhost:8080/",
     "height": 442
    },
    "id": "tetEN5P4ALwp",
    "outputId": "8f88a778-8c13-4111-92bb-cda69f938a95"
   },
   "outputs": [
    {
     "name": "stdout",
     "output_type": "stream",
     "text": [
      "   Actual Marks  Predicted Marks\n",
      "0            20        16.844722\n",
      "1            27        33.745575\n",
      "2            69        75.500624\n",
      "3            30        26.786400\n",
      "4            62        60.588106\n",
      "5            35        39.710582\n",
      "6            24        20.821393\n"
     ]
    },
    {
     "data": {
      "image/png": "[encoded data removed]",
      "text/plain": [
       "<Figure size 432x288 with 1 Axes>"
      ]
     },
     "metadata": {},
     "output_type": "display_data"
    }
   ],
   "source": [
    "# This code block comapres the expected output and the actual predicted output from the testing data\n",
    "\n",
    "# Convert the expected output and the actual predicted output to a table format for analysis\n",
    "compare_scores = pd.DataFrame({'Expected Marks': test_y, 'Predicted Marks': pred_y})\n",
    "print(compare_scores)\n",
    "\n",
    "# Provide the expected data points from the testing data to the x and y axes for a scatter plot graph\n",
    "plt.scatter(x=test_X, y=test_y, color='blue')\n",
    "\n",
    "# Provide the actual predicted data points from the testing data to the x and y axes for a regression plot graph\n",
    "plt.plot(test_X, pred_y, color='Black')\n",
    "\n",
    "# Set the graph title 20 font size\n",
    "plt.title('Expected Marks vs Predicted Marks (from testing data)', size=20)\n",
    "\n",
    "# Set the y-axis label 13 font size\n",
    "plt.ylabel('Marks Scored', size=13)\n",
    "\n",
    "# Set the x-axis label with 13 font size\n",
    "plt.xlabel('Hours Studied', size=13)\n",
    "\n",
    "# Display the graph\n",
    "plt.show()"
   ]
  },
  {
   "cell_type": "code",
   "execution_count": null,
   "metadata": {
    "colab": {
     "base_uri": "https://localhost:8080/"
    },
    "id": "T92-5iB9CDWD",
    "outputId": "a4e2e01e-e99b-45fa-deee-956d7e6025f8"
   },
   "outputs": [
    {
     "name": "stdout",
     "output_type": "stream",
     "text": [
      "Mean Absolute Error:  4.130879918502482\n"
     ]
    }
   ],
   "source": [
    "# This code block calculates the MAE\n",
    "\n",
    "# Calculate and print the Mean Absolute Error in the expected output and actual predicted output from the predictions on testing data\n",
    "print('Mean Absolute Error: ', mean_absolute_error(test_y,pred_y))"
   ]
  },
  {
   "cell_type": "code",
   "execution_count": null,
   "metadata": {
    "colab": {
     "base_uri": "https://localhost:8080/"
    },
    "id": "T78vCJy2Colx",
    "outputId": "23806afd-5d6e-47b1-b2f8-70db62accbad"
   },
   "outputs": [
    {
     "name": "stdout",
     "output_type": "stream",
     "text": [
      "Score = 93.893\n"
     ]
    }
   ],
   "source": [
    "# This code block performs the actual predictions on the model with new input data (hours)\n",
    "\n",
    "# New Input Data (hours) for prediction\n",
    "hours = [9.25]\n",
    "\n",
    "# Predict the Output (marks) using the regression model created\n",
    "answer = regression.predict([hours])\n",
    "\n",
    "# Print the prediction\n",
    "print(\"Score = {}\".format(round(answer[0],3)))"
   ]
  }
 ],
 "metadata": {
  "colab": {
   "provenance": []
  },
  "kernelspec": {
   "display_name": "Python 3",
   "language": "python",
   "name": "python3"
  },
  "language_info": {
   "codemirror_mode": {
    "name": "ipython",
    "version": 3
   },
   "file_extension": ".py",
   "mimetype": "text/x-python",
   "name": "python",
   "nbconvert_exporter": "python",
   "pygments_lexer": "ipython3",
   "version": "3.8.3"
  }
 },
 "nbformat": 4,
 "nbformat_minor": 1
}
